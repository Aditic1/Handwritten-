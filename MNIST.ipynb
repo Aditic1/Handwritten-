{
  "nbformat": 4,
  "nbformat_minor": 0,
  "metadata": {
    "colab": {
      "provenance": [],
      "authorship_tag": "ABX9TyOInAV4b6tp0gGSfd3kKiI3",
      "include_colab_link": true
    },
    "kernelspec": {
      "name": "python3",
      "display_name": "Python 3"
    },
    "language_info": {
      "name": "python"
    }
  },
  "cells": [
    {
      "cell_type": "markdown",
      "metadata": {
        "id": "view-in-github",
        "colab_type": "text"
      },
      "source": [
        "<a href=\"https://colab.research.google.com/github/Aditic1/Handwritten-/blob/main/MNIST.ipynb\" target=\"_parent\"><img src=\"https://colab.research.google.com/assets/colab-badge.svg\" alt=\"Open In Colab\"/></a>"
      ]
    },
    {
      "cell_type": "markdown",
      "source": [
        "# Install and import libraries"
      ],
      "metadata": {
        "id": "a2B_A9s0yYLf"
      }
    },
    {
      "cell_type": "code",
      "execution_count": 5,
      "metadata": {
        "id": "wWwFPc7_yCkK"
      },
      "outputs": [],
      "source": [
        "!pip install tensorflow\n",
        "!pip install opencv-python"
      ]
    },
    {
      "cell_type": "code",
      "source": [
        "import tensorflow as tf"
      ],
      "metadata": {
        "id": "fFPSjOZ4yTb6"
      },
      "execution_count": 6,
      "outputs": []
    },
    {
      "cell_type": "markdown",
      "source": [
        "# Loading the dataset\n",
        "Tensorflow already contains MNIST dataset"
      ],
      "metadata": {
        "id": "KRSH6wvPyvvh"
      }
    },
    {
      "cell_type": "code",
      "source": [
        "mnist=tf.keras.datasets.mnist\n",
        "(x_train,y_train),(x_test,y_test)=mnist.load_data()"
      ],
      "metadata": {
        "colab": {
          "base_uri": "https://localhost:8080/"
        },
        "id": "2CN6VdiIy9iR",
        "outputId": "a84f7f55-b2fd-4b37-b101-c16fd75d1e21"
      },
      "execution_count": 7,
      "outputs": [
        {
          "output_type": "stream",
          "name": "stdout",
          "text": [
            "Downloading data from https://storage.googleapis.com/tensorflow/tf-keras-datasets/mnist.npz\n",
            "11490434/11490434 [==============================] - 0s 0us/step\n"
          ]
        }
      ]
    },
    {
      "cell_type": "code",
      "source": [
        "!pip install matplotlib\n",
        "import matplotlib.pyplot as plt"
      ],
      "metadata": {
        "id": "TPf3zStvzyoV"
      },
      "execution_count": null,
      "outputs": []
    },
    {
      "cell_type": "markdown",
      "source": [
        "# Plotting an example here"
      ],
      "metadata": {
        "id": "DbsirkWy0Har"
      }
    },
    {
      "cell_type": "code",
      "source": [
        "plt.imshow(x_train[0])\n",
        "plt.show()\n",
        "\n",
        "#now change to binary\n",
        "#This is reverted coloured-picture. The background which is black is reverted to white and vice-versa\n",
        "plt.imshow(x_train[0],cmap=plt.cm.binary)"
      ],
      "metadata": {
        "colab": {
          "base_uri": "https://localhost:8080/",
          "height": 860
        },
        "id": "r4-tvCr90Ghh",
        "outputId": "85fc3100-de03-4503-8a5f-5687c4e04d27"
      },
      "execution_count": 9,
      "outputs": [
        {
          "output_type": "display_data",
          "data": {
            "text/plain": [
              "<Figure size 640x480 with 1 Axes>"
            ],
            "image/png": "[encoded data removed]"
          },
          "metadata": {}
        },
        {
          "output_type": "execute_result",
          "data": {
            "text/plain": [
              "<matplotlib.image.AxesImage at 0x7fa724518790>"
            ]
          },
          "metadata": {},
          "execution_count": 9
        },
        {
          "output_type": "display_data",
          "data": {
            "text/plain": [
              "<Figure size 640x480 with 1 Axes>"
            ],
            "image/png": "[encoded data removed]"
          },
          "metadata": {}
        }
      ]
    },
    {
      "cell_type": "markdown",
      "source": [
        "# Normalization of images\n",
        "Changes range of pixel values to bring image to a range that is normal to sense"
      ],
      "metadata": {
        "id": "K8gQavI-1scn"
      }
    },
    {
      "cell_type": "code",
      "source": [
        "# Normalize each individual image separately\n",
        "#Done by division by 255\n",
        "x_train = tf.keras.utils.normalize(x_train, axis=1)\n",
        "x_test = tf.keras.utils.normalize(x_test,axis=1)\n",
        "\n",
        "# Plot the first image in the normalized training set\n",
        "plt.imshow(x_train[0], cmap=plt.cm.binary)\n",
        "plt.show()"
      ],
      "metadata": {
        "colab": {
          "base_uri": "https://localhost:8080/",
          "height": 430
        },
        "id": "Fxu7WPuU1vHq",
        "outputId": "0c4ed098-d647-4d15-ebd0-5045af7408f7"
      },
      "execution_count": 10,
      "outputs": [
        {
          "output_type": "display_data",
          "data": {
            "text/plain": [
              "<Figure size 640x480 with 1 Axes>"
            ],
            "image/png": "[encoded data removed]"
          },
          "metadata": {}
        }
      ]
    },
    {
      "cell_type": "code",
      "source": [
        "x_train[0]\n",
        "#After normalization, all the values will be between 0 and 1"
      ],
      "metadata": {
        "id": "gPsfYEUq3jpO"
      },
      "execution_count": null,
      "outputs": []
    },
    {
      "cell_type": "markdown",
      "source": [
        "# Resizing the image to apply convolution operation"
      ],
      "metadata": {
        "id": "m67CRJF735HM"
      }
    },
    {
      "cell_type": "code",
      "source": [
        "import numpy as np\n",
        "\n",
        "# Assuming x_train and x_test are lists or arrays containing grayscale image data\n",
        "IMG_SIZE = 28\n",
        "\n",
        "# Reshape the training data\n",
        "x_trainr = np.array(x_train).reshape(-1, IMG_SIZE, IMG_SIZE, 1)\n",
        "\n",
        "# Reshape the testing data\n",
        "x_testr = np.array(x_test).reshape(-1, IMG_SIZE, IMG_SIZE, 1)\n",
        "\n",
        "print(\"Training sample dimensions:\", x_trainr.shape)\n",
        "print(\"Testing sample dimensions:\", x_testr.shape)\n"
      ],
      "metadata": {
        "colab": {
          "base_uri": "https://localhost:8080/"
        },
        "id": "y9eaR-_K3-ba",
        "outputId": "5350d3ac-7206-4d23-f7e5-7da3931422ce"
      },
      "execution_count": 13,
      "outputs": [
        {
          "output_type": "stream",
          "name": "stdout",
          "text": [
            "Training sample dimensions: (60000, 28, 28, 1)\n",
            "Testing sample dimensions: (10000, 28, 28, 1)\n"
          ]
        }
      ]
    },
    {
      "cell_type": "markdown",
      "source": [
        "# Creating a deep neural network"
      ],
      "metadata": {
        "id": "VpgOgC-R9akF"
      }
    },
    {
      "cell_type": "code",
      "source": [
        "from tensorflow.keras.models import Sequential\n",
        "from tensorflow.keras.layers import Dense,Dropout,Activation,Flatten,Conv2D,MaxPooling2D"
      ],
      "metadata": {
        "id": "XGYkk6eQ9d46"
      },
      "execution_count": 14,
      "outputs": []
    },
    {
      "cell_type": "code",
      "source": [
        "#creating a neural network\n",
        "model = Sequential()\n",
        "\n",
        "#First convolution Layer            28-3+1 = 26*26\n",
        "model.add(Conv2D(64,(3,3),input_shape = x_trainr.shape[1:]))\n",
        "model.add(Activation(\"relu\"))      # activation function. Any value < 0 will be dropped while others are allowed will be passed to next/second layer\n",
        "model.add(MaxPooling2D(pool_size=(2,2)))        # maxpooling. Maximum values allowed to pass, rest are dropped\n",
        "\n",
        "#Second convolution Layer          26-3+1 = 24*24\n",
        "model.add(Conv2D(64,(3,3)))       # second convolution layer\n",
        "model.add(Activation(\"relu\"))     # activation function. Any value < 0 will be dropped while others are allowed will be passed to next/second layer\n",
        "model.add(MaxPooling2D(pool_size=(2,2)))        #maxpooling\n",
        "\n",
        "#Third convolution Layer           24-3+1 = 22*22\n",
        "model.add(Conv2D(64,(3,3)))       # Third convolution layer\n",
        "model.add(Activation(\"relu\"))     # activation function. Any value < 0 will be dropped while others are allowed will be passed to next/second layer\n",
        "model.add(MaxPooling2D(pool_size=(2,2)))        #maxpooling\n",
        "\n",
        "#Fully connected Layer 1          20*20 = 400\n",
        "model.add(Flatten())              #2D to 1D\n",
        "model.add(Dense(64))\n",
        "model.add(Activation(\"relu\"))\n",
        "\n",
        "#Fully connected Layer 2\n",
        "model.add(Dense(32))\n",
        "model.add(Activation(\"relu\"))\n",
        "\n",
        "#Last Fully connected Layer 2\n",
        "model.add(Dense(10))\n",
        "model.add(Activation('softmax'))"
      ],
      "metadata": {
        "id": "rJ0eQmYc9uvN"
      },
      "execution_count": 16,
      "outputs": []
    },
    {
      "cell_type": "code",
      "source": [
        "model.summary()"
      ],
      "metadata": {
        "colab": {
          "base_uri": "https://localhost:8080/"
        },
        "id": "YQY91WbhYTWu",
        "outputId": "f26049c6-3bbe-4218-df68-9c33ca75cf93"
      },
      "execution_count": 24,
      "outputs": [
        {
          "output_type": "stream",
          "name": "stdout",
          "text": [
            "Model: \"sequential_2\"\n",
            "_________________________________________________________________\n",
            " Layer (type)                Output Shape              Param #   \n",
            "=================================================================\n",
            " conv2d_3 (Conv2D)           (None, 26, 26, 64)        640       \n",
            "                                                                 \n",
            " activation_6 (Activation)   (None, 26, 26, 64)        0         \n",
            "                                                                 \n",
            " max_pooling2d_3 (MaxPoolin  (None, 13, 13, 64)        0         \n",
            " g2D)                                                            \n",
            "                                                                 \n",
            " conv2d_4 (Conv2D)           (None, 11, 11, 64)        36928     \n",
            "                                                                 \n",
            " activation_7 (Activation)   (None, 11, 11, 64)        0         \n",
            "                                                                 \n",
            " max_pooling2d_4 (MaxPoolin  (None, 5, 5, 64)          0         \n",
            " g2D)                                                            \n",
            "                                                                 \n",
            " conv2d_5 (Conv2D)           (None, 3, 3, 64)          36928     \n",
            "                                                                 \n",
            " activation_8 (Activation)   (None, 3, 3, 64)          0         \n",
            "                                                                 \n",
            " max_pooling2d_5 (MaxPoolin  (None, 1, 1, 64)          0         \n",
            " g2D)                                                            \n",
            "                                                                 \n",
            " flatten_1 (Flatten)         (None, 64)                0         \n",
            "                                                                 \n",
            " dense_3 (Dense)             (None, 64)                4160      \n",
            "                                                                 \n",
            " activation_9 (Activation)   (None, 64)                0         \n",
            "                                                                 \n",
            " dense_4 (Dense)             (None, 32)                2080      \n",
            "                                                                 \n",
            " activation_10 (Activation)  (None, 32)                0         \n",
            "                                                                 \n",
            " dense_5 (Dense)             (None, 10)                330       \n",
            "                                                                 \n",
            " activation_11 (Activation)  (None, 10)                0         \n",
            "                                                                 \n",
            "=================================================================\n",
            "Total params: 81066 (316.66 KB)\n",
            "Trainable params: 81066 (316.66 KB)\n",
            "Non-trainable params: 0 (0.00 Byte)\n",
            "_________________________________________________________________\n"
          ]
        }
      ]
    },
    {
      "cell_type": "code",
      "source": [
        "model.compile(loss=\"sparse_categorical_crossentropy\",optimizer=\"adam\",metrics=['accuracy'])"
      ],
      "metadata": {
        "id": "DZw8AhQlhBC4"
      },
      "execution_count": 18,
      "outputs": []
    },
    {
      "cell_type": "code",
      "source": [
        "model.fit(x_trainr,y_train,epochs=5,validation_split=0.3)"
      ],
      "metadata": {
        "colab": {
          "base_uri": "https://localhost:8080/"
        },
        "id": "bjyZaxYWhPSU",
        "outputId": "7a5c7d6c-07d7-4c53-bcba-1fe2f65439ed"
      },
      "execution_count": 19,
      "outputs": [
        {
          "output_type": "stream",
          "name": "stdout",
          "text": [
            "Epoch 1/5\n",
            "1313/1313 [==============================] - 76s 56ms/step - loss: 0.3299 - accuracy: 0.8984 - val_loss: 0.1232 - val_accuracy: 0.9618\n",
            "Epoch 2/5\n",
            "1313/1313 [==============================] - 69s 52ms/step - loss: 0.1042 - accuracy: 0.9683 - val_loss: 0.0919 - val_accuracy: 0.9724\n",
            "Epoch 3/5\n",
            "1313/1313 [==============================] - 71s 54ms/step - loss: 0.0735 - accuracy: 0.9772 - val_loss: 0.0712 - val_accuracy: 0.9786\n",
            "Epoch 4/5\n",
            "1313/1313 [==============================] - 72s 54ms/step - loss: 0.0574 - accuracy: 0.9822 - val_loss: 0.0761 - val_accuracy: 0.9767\n",
            "Epoch 5/5\n",
            "1313/1313 [==============================] - 68s 52ms/step - loss: 0.0451 - accuracy: 0.9854 - val_loss: 0.0570 - val_accuracy: 0.9837\n"
          ]
        },
        {
          "output_type": "execute_result",
          "data": {
            "text/plain": [
              "<keras.src.callbacks.History at 0x7fa72431ef80>"
            ]
          },
          "metadata": {},
          "execution_count": 19
        }
      ]
    },
    {
      "cell_type": "code",
      "source": [
        "test_loss,test_acc=model.evaluate(x_testr,y_test)\n",
        "print(\"Test loss on test part of dataset\",test_loss)\n",
        "print(\"Validation accuracy\",test_acc)"
      ],
      "metadata": {
        "colab": {
          "base_uri": "https://localhost:8080/"
        },
        "id": "fpJtvcAHjACu",
        "outputId": "a1485a07-0d45-447e-f887-45b4f0c44a55"
      },
      "execution_count": 20,
      "outputs": [
        {
          "output_type": "stream",
          "name": "stdout",
          "text": [
            "313/313 [==============================] - 5s 17ms/step - loss: 0.0579 - accuracy: 0.9840\n",
            "Test loss on test part of dataset 0.05792485177516937\n",
            "Validation accuracy 0.984000027179718\n"
          ]
        }
      ]
    },
    {
      "cell_type": "code",
      "source": [
        "predictions=model.predict([x_testr])"
      ],
      "metadata": {
        "colab": {
          "base_uri": "https://localhost:8080/"
        },
        "id": "dG7dI2EXlNeP",
        "outputId": "dc73ec18-958c-4979-b192-7d26b0205110"
      },
      "execution_count": 21,
      "outputs": [
        {
          "output_type": "stream",
          "name": "stdout",
          "text": [
            "313/313 [==============================] - 5s 14ms/step\n"
          ]
        }
      ]
    },
    {
      "cell_type": "markdown",
      "source": [
        "# Example\n",
        "Predicted by the model"
      ],
      "metadata": {
        "id": "ZRpmF8kbmFQW"
      }
    },
    {
      "cell_type": "code",
      "source": [
        "print(np.argmax(predictions[90]))"
      ],
      "metadata": {
        "colab": {
          "base_uri": "https://localhost:8080/"
        },
        "id": "hnGIDCyWl67I",
        "outputId": "464187d6-4e78-421f-e41a-1a283d0b85b9"
      },
      "execution_count": 22,
      "outputs": [
        {
          "output_type": "stream",
          "name": "stdout",
          "text": [
            "3\n"
          ]
        }
      ]
    },
    {
      "cell_type": "markdown",
      "source": [
        "Actual image"
      ],
      "metadata": {
        "id": "vNGwumdBmQ9Q"
      }
    },
    {
      "cell_type": "code",
      "source": [
        "plt.imshow(x_test[90])"
      ],
      "metadata": {
        "colab": {
          "base_uri": "https://localhost:8080/",
          "height": 447
        },
        "id": "qtGckP72mPdK",
        "outputId": "cd92ddb8-5797-466e-d327-fb620873c4fa"
      },
      "execution_count": 23,
      "outputs": [
        {
          "output_type": "execute_result",
          "data": {
            "text/plain": [
              "<matplotlib.image.AxesImage at 0x7fa717d20a90>"
            ]
          },
          "metadata": {},
          "execution_count": 23
        },
        {
          "output_type": "display_data",
          "data": {
            "text/plain": [
              "<Figure size 640x480 with 1 Axes>"
            ],
            "image/png": "[encoded data removed]"
          },
          "metadata": {}
        }
      ]
    },
    {
      "cell_type": "code",
      "source": [
        "!pip install opencv-python"
      ],
      "metadata": {
        "colab": {
          "base_uri": "https://localhost:8080/"
        },
        "id": "C8Fxo5ICo3tU",
        "outputId": "663aab0a-b8b7-4f40-a249-e931b80e7adf"
      },
      "execution_count": 25,
      "outputs": [
        {
          "output_type": "stream",
          "name": "stdout",
          "text": [
            "Requirement already satisfied: opencv-python in /usr/local/lib/python3.10/dist-packages (4.8.0.76)\n",
            "Requirement already satisfied: numpy>=1.21.2 in /usr/local/lib/python3.10/dist-packages (from opencv-python) (1.25.2)\n"
          ]
        }
      ]
    },
    {
      "cell_type": "code",
      "source": [
        "import cv2"
      ],
      "metadata": {
        "id": "pe4aZgv0pDGp"
      },
      "execution_count": 26,
      "outputs": []
    },
    {
      "cell_type": "code",
      "source": [
        "img=cv2.imread('/content/demo.png')"
      ],
      "metadata": {
        "id": "uDbBVGDdpFab"
      },
      "execution_count": 44,
      "outputs": []
    },
    {
      "cell_type": "code",
      "source": [
        "plt.imshow(img)"
      ],
      "metadata": {
        "colab": {
          "base_uri": "https://localhost:8080/",
          "height": 452
        },
        "id": "BKed6vR6pQ19",
        "outputId": "2bac93ab-ab84-43a4-a53a-eb60e7fe589f"
      },
      "execution_count": 45,
      "outputs": [
        {
          "output_type": "execute_result",
          "data": {
            "text/plain": [
              "<matplotlib.image.AxesImage at 0x7fa6d3b1d390>"
            ]
          },
          "metadata": {},
          "execution_count": 45
        },
        {
          "output_type": "display_data",
          "data": {
            "text/plain": [
              "<Figure size 640x480 with 1 Axes>"
            ],
            "image/png": "[encoded data removed]"
          },
          "metadata": {}
        }
      ]
    },
    {
      "cell_type": "code",
      "source": [
        "#convert to gray image\n",
        "gray=cv2.cvtColor(img,cv2.COLOR_BGR2GRAY)\n",
        "#resize\n",
        "resized=cv2.resize(gray,(28,28),interpolation=cv2.INTER_AREA)\n",
        "#NORMALIZATION\n",
        "normaliz=tf.keras.utils.normalize(resized,axis=1)\n",
        "normaliz=np.array(normaliz).reshape(-1,IMG_SIZE,IMG_SIZE,1)\n",
        "normaliz.shape"
      ],
      "metadata": {
        "colab": {
          "base_uri": "https://localhost:8080/"
        },
        "id": "pBryvNKOpanq",
        "outputId": "46729b45-2fd8-445a-eb9a-c8aa728fe0c9"
      },
      "execution_count": 46,
      "outputs": [
        {
          "output_type": "execute_result",
          "data": {
            "text/plain": [
              "(1, 28, 28, 1)"
            ]
          },
          "metadata": {},
          "execution_count": 46
        }
      ]
    },
    {
      "cell_type": "code",
      "source": [
        "predictions=np.argmax(normaliz)\n",
        "print(np.argmax(predictions))"
      ],
      "metadata": {
        "colab": {
          "base_uri": "https://localhost:8080/"
        },
        "id": "bQBIMQ94qRmM",
        "outputId": "235f4642-61c3-4e14-e915-acfa800aabd5"
      },
      "execution_count": 47,
      "outputs": [
        {
          "output_type": "stream",
          "name": "stdout",
          "text": [
            "0\n"
          ]
        }
      ]
    }
  ]
}